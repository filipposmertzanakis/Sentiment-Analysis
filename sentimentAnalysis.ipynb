{
 "cells": [
  {
   "cell_type": "code",
   "execution_count": 2,
   "metadata": {
    "id": "3KX2pDX-ZcYK"
   },
   "outputs": [],
   "source": [
    "#ta imports poy xreiazontai gia to project\n",
    "import pandas as pd \n",
    "import matplotlib.pyplot as plt\n",
    "import re\n",
    "from bs4 import BeautifulSoup\n",
    "from nltk.tokenize import word_tokenize\n",
    "from nltk.corpus import stopwords\n",
    "from nltk.stem import PorterStemmer\n",
    "import plotly.express as px\n",
    "from sklearn.feature_extraction.text import TfidfVectorizer\n",
    "from sklearn.model_selection import train_test_split\n",
    "import warnings"
   ]
  },
  {
   "cell_type": "code",
   "execution_count": 3,
   "metadata": {
    "colab": {
     "base_uri": "https://localhost:8080/",
     "height": 206
    },
    "id": "KO1m3WEJZcYL",
    "outputId": "1ff31602-1fdf-492d-c29a-c8c0131832c2"
   },
   "outputs": [
    {
     "data": {
      "text/html": [
       "<div>\n",
       "<style scoped>\n",
       "    .dataframe tbody tr th:only-of-type {\n",
       "        vertical-align: middle;\n",
       "    }\n",
       "\n",
       "    .dataframe tbody tr th {\n",
       "        vertical-align: top;\n",
       "    }\n",
       "\n",
       "    .dataframe thead th {\n",
       "        text-align: right;\n",
       "    }\n",
       "</style>\n",
       "<table border=\"1\" class=\"dataframe\">\n",
       "  <thead>\n",
       "    <tr style=\"text-align: right;\">\n",
       "      <th></th>\n",
       "      <th>review</th>\n",
       "      <th>sentiment</th>\n",
       "    </tr>\n",
       "  </thead>\n",
       "  <tbody>\n",
       "    <tr>\n",
       "      <th>0</th>\n",
       "      <td>One of the other reviewers has mentioned that ...</td>\n",
       "      <td>positive</td>\n",
       "    </tr>\n",
       "    <tr>\n",
       "      <th>1</th>\n",
       "      <td>A wonderful little production. &lt;br /&gt;&lt;br /&gt;The...</td>\n",
       "      <td>positive</td>\n",
       "    </tr>\n",
       "    <tr>\n",
       "      <th>2</th>\n",
       "      <td>I thought this was a wonderful way to spend ti...</td>\n",
       "      <td>positive</td>\n",
       "    </tr>\n",
       "    <tr>\n",
       "      <th>3</th>\n",
       "      <td>Basically there's a family where a little boy ...</td>\n",
       "      <td>negative</td>\n",
       "    </tr>\n",
       "    <tr>\n",
       "      <th>4</th>\n",
       "      <td>Petter Mattei's \"Love in the Time of Money\" is...</td>\n",
       "      <td>positive</td>\n",
       "    </tr>\n",
       "  </tbody>\n",
       "</table>\n",
       "</div>"
      ],
      "text/plain": [
       "                                              review sentiment\n",
       "0  One of the other reviewers has mentioned that ...  positive\n",
       "1  A wonderful little production. <br /><br />The...  positive\n",
       "2  I thought this was a wonderful way to spend ti...  positive\n",
       "3  Basically there's a family where a little boy ...  negative\n",
       "4  Petter Mattei's \"Love in the Time of Money\" is...  positive"
      ]
     },
     "execution_count": 3,
     "metadata": {},
     "output_type": "execute_result"
    }
   ],
   "source": [
    "#diabazw to csv kai to bazw se ena df\n",
    "df = pd.read_csv('IMDB_Dataset.csv', encoding='latin-1', on_bad_lines='skip')\n",
    "df.head()"
   ]
  },
  {
   "cell_type": "code",
   "execution_count": 7,
   "metadata": {
    "colab": {
     "base_uri": "https://localhost:8080/"
    },
    "id": "HsKp0j-CZcYL",
    "outputId": "94f50e7a-53ce-436e-d213-b24e454ebc8a"
   },
   "outputs": [
    {
     "data": {
      "text/html": [
       "<div>\n",
       "<style scoped>\n",
       "    .dataframe tbody tr th:only-of-type {\n",
       "        vertical-align: middle;\n",
       "    }\n",
       "\n",
       "    .dataframe tbody tr th {\n",
       "        vertical-align: top;\n",
       "    }\n",
       "\n",
       "    .dataframe thead th {\n",
       "        text-align: right;\n",
       "    }\n",
       "</style>\n",
       "<table border=\"1\" class=\"dataframe\">\n",
       "  <thead>\n",
       "    <tr style=\"text-align: right;\">\n",
       "      <th></th>\n",
       "      <th>review</th>\n",
       "      <th>sentiment</th>\n",
       "    </tr>\n",
       "  </thead>\n",
       "  <tbody>\n",
       "  </tbody>\n",
       "</table>\n",
       "</div>"
      ],
      "text/plain": [
       "Empty DataFrame\n",
       "Columns: [review, sentiment]\n",
       "Index: []"
      ]
     },
     "execution_count": 7,
     "metadata": {},
     "output_type": "execute_result"
    }
   ],
   "source": [
    "#testarw na dw ean uparxei kapoio review xwris sentiment\n",
    "df[~df['sentiment'].isin(['positive', 'negative'])]\n"
   ]
  },
  {
   "cell_type": "code",
   "execution_count": 5,
   "metadata": {
    "colab": {
     "base_uri": "https://localhost:8080/"
    },
    "id": "O87bx4YSZcYL",
    "outputId": "6a3ae0ce-eb84-4f40-f021-a80c901e2e7a"
   },
   "outputs": [
    {
     "name": "stdout",
     "output_type": "stream",
     "text": [
      "<class 'pandas.core.frame.DataFrame'>\n",
      "RangeIndex: 50000 entries, 0 to 49999\n",
      "Data columns (total 2 columns):\n",
      " #   Column     Non-Null Count  Dtype \n",
      "---  ------     --------------  ----- \n",
      " 0   review     50000 non-null  object\n",
      " 1   sentiment  50000 non-null  object\n",
      "dtypes: object(2)\n",
      "memory usage: 781.4+ KB\n"
     ]
    }
   ],
   "source": [
    "df.info()"
   ]
  },
  {
   "cell_type": "code",
   "execution_count": 8,
   "metadata": {
    "colab": {
     "base_uri": "https://localhost:8080/",
     "height": 445
    },
    "id": "9ZeEqrCoZcYL",
    "outputId": "91249bfa-04f1-4c0d-d1d7-d269873d3fef"
   },
   "outputs": [
    {
     "data": {
      "text/plain": [
       "Text(0.5, 1.0, 'Distribution of Positive / Negative Emotions')"
      ]
     },
     "execution_count": 8,
     "metadata": {},
     "output_type": "execute_result"
    },
    {
     "data": {
      "image/png": "[encoded data removed]",
      "text/plain": [
       "<Figure size 640x480 with 1 Axes>"
      ]
     },
     "metadata": {},
     "output_type": "display_data"
    }
   ],
   "source": [
    "#plottarw ta sentiments se pie gia na dw ean einai zugismeno to dataset\n",
    "df['sentiment'].value_counts().plot.pie(explode=[0,0.1], autopct='%2.0f%%', startangle=300, colors = [\"#bcbddc\", \"#efedf5\"])\n",
    "plt.title(\"Distribution of Positive / Negative Emotions\")"
   ]
  },
  {
   "cell_type": "code",
   "execution_count": 9,
   "metadata": {
    "colab": {
     "base_uri": "https://localhost:8080/",
     "height": 143
    },
    "id": "xzGaaDAcZcYM",
    "outputId": "0014c965-798f-4945-dfd1-7b02fa174c40"
   },
   "outputs": [
    {
     "data": {
      "text/html": [
       "<div>\n",
       "<style scoped>\n",
       "    .dataframe tbody tr th:only-of-type {\n",
       "        vertical-align: middle;\n",
       "    }\n",
       "\n",
       "    .dataframe tbody tr th {\n",
       "        vertical-align: top;\n",
       "    }\n",
       "\n",
       "    .dataframe thead th {\n",
       "        text-align: right;\n",
       "    }\n",
       "</style>\n",
       "<table border=\"1\" class=\"dataframe\">\n",
       "  <thead>\n",
       "    <tr style=\"text-align: right;\">\n",
       "      <th></th>\n",
       "      <th>sentiment</th>\n",
       "    </tr>\n",
       "    <tr>\n",
       "      <th>sentiment</th>\n",
       "      <th></th>\n",
       "    </tr>\n",
       "  </thead>\n",
       "  <tbody>\n",
       "    <tr>\n",
       "      <th>negative</th>\n",
       "      <td>25000</td>\n",
       "    </tr>\n",
       "    <tr>\n",
       "      <th>positive</th>\n",
       "      <td>25000</td>\n",
       "    </tr>\n",
       "  </tbody>\n",
       "</table>\n",
       "</div>"
      ],
      "text/plain": [
       "           sentiment\n",
       "sentiment           \n",
       "negative       25000\n",
       "positive       25000"
      ]
     },
     "execution_count": 9,
     "metadata": {},
     "output_type": "execute_result"
    }
   ],
   "source": [
    "df.groupby(['sentiment'])[['sentiment']].count()"
   ]
  },
  {
   "cell_type": "code",
   "execution_count": 11,
   "metadata": {
    "id": "XbR6PXbNZcYM"
   },
   "outputs": [],
   "source": [
    "#aplo function gia na metraei tis lekseis se kathe review\n",
    "def no_of_words(text):\n",
    "    words= text.split()\n",
    "    word_count = len(words)\n",
    "    return word_count"
   ]
  },
  {
   "cell_type": "code",
   "execution_count": 12,
   "metadata": {
    "id": "57vM9Ze5ZcYM"
   },
   "outputs": [],
   "source": [
    "#to prosthetw sto df\n",
    "df['word_count'] = df['review'].apply(no_of_words)"
   ]
  },
  {
   "cell_type": "code",
   "execution_count": 13,
   "metadata": {
    "colab": {
     "base_uri": "https://localhost:8080/",
     "height": 363
    },
    "id": "vwsHGinXZcYM",
    "outputId": "04c40d08-3a67-491a-b2b9-727ffeccf45e"
   },
   "outputs": [
    {
     "data": {
      "text/html": [
       "<div>\n",
       "<style scoped>\n",
       "    .dataframe tbody tr th:only-of-type {\n",
       "        vertical-align: middle;\n",
       "    }\n",
       "\n",
       "    .dataframe tbody tr th {\n",
       "        vertical-align: top;\n",
       "    }\n",
       "\n",
       "    .dataframe thead th {\n",
       "        text-align: right;\n",
       "    }\n",
       "</style>\n",
       "<table border=\"1\" class=\"dataframe\">\n",
       "  <thead>\n",
       "    <tr style=\"text-align: right;\">\n",
       "      <th></th>\n",
       "      <th>review</th>\n",
       "      <th>sentiment</th>\n",
       "      <th>word_count</th>\n",
       "    </tr>\n",
       "  </thead>\n",
       "  <tbody>\n",
       "    <tr>\n",
       "      <th>0</th>\n",
       "      <td>One of the other reviewers has mentioned that ...</td>\n",
       "      <td>positive</td>\n",
       "      <td>307</td>\n",
       "    </tr>\n",
       "    <tr>\n",
       "      <th>1</th>\n",
       "      <td>A wonderful little production. &lt;br /&gt;&lt;br /&gt;The...</td>\n",
       "      <td>positive</td>\n",
       "      <td>162</td>\n",
       "    </tr>\n",
       "    <tr>\n",
       "      <th>2</th>\n",
       "      <td>I thought this was a wonderful way to spend ti...</td>\n",
       "      <td>positive</td>\n",
       "      <td>166</td>\n",
       "    </tr>\n",
       "    <tr>\n",
       "      <th>3</th>\n",
       "      <td>Basically there's a family where a little boy ...</td>\n",
       "      <td>negative</td>\n",
       "      <td>138</td>\n",
       "    </tr>\n",
       "    <tr>\n",
       "      <th>4</th>\n",
       "      <td>Petter Mattei's \"Love in the Time of Money\" is...</td>\n",
       "      <td>positive</td>\n",
       "      <td>230</td>\n",
       "    </tr>\n",
       "    <tr>\n",
       "      <th>5</th>\n",
       "      <td>Probably my all-time favorite movie, a story o...</td>\n",
       "      <td>positive</td>\n",
       "      <td>119</td>\n",
       "    </tr>\n",
       "    <tr>\n",
       "      <th>6</th>\n",
       "      <td>I sure would like to see a resurrection of a u...</td>\n",
       "      <td>positive</td>\n",
       "      <td>150</td>\n",
       "    </tr>\n",
       "    <tr>\n",
       "      <th>7</th>\n",
       "      <td>This show was an amazing, fresh &amp; innovative i...</td>\n",
       "      <td>negative</td>\n",
       "      <td>174</td>\n",
       "    </tr>\n",
       "    <tr>\n",
       "      <th>8</th>\n",
       "      <td>Encouraged by the positive comments about this...</td>\n",
       "      <td>negative</td>\n",
       "      <td>130</td>\n",
       "    </tr>\n",
       "    <tr>\n",
       "      <th>9</th>\n",
       "      <td>If you like original gut wrenching laughter yo...</td>\n",
       "      <td>positive</td>\n",
       "      <td>33</td>\n",
       "    </tr>\n",
       "  </tbody>\n",
       "</table>\n",
       "</div>"
      ],
      "text/plain": [
       "                                              review sentiment  word_count\n",
       "0  One of the other reviewers has mentioned that ...  positive         307\n",
       "1  A wonderful little production. <br /><br />The...  positive         162\n",
       "2  I thought this was a wonderful way to spend ti...  positive         166\n",
       "3  Basically there's a family where a little boy ...  negative         138\n",
       "4  Petter Mattei's \"Love in the Time of Money\" is...  positive         230\n",
       "5  Probably my all-time favorite movie, a story o...  positive         119\n",
       "6  I sure would like to see a resurrection of a u...  positive         150\n",
       "7  This show was an amazing, fresh & innovative i...  negative         174\n",
       "8  Encouraged by the positive comments about this...  negative         130\n",
       "9  If you like original gut wrenching laughter yo...  positive          33"
      ]
     },
     "execution_count": 13,
     "metadata": {},
     "output_type": "execute_result"
    }
   ],
   "source": [
    "df.head(10)"
   ]
  },
  {
   "cell_type": "code",
   "execution_count": 14,
   "metadata": {
    "colab": {
     "base_uri": "https://localhost:8080/",
     "height": 582
    },
    "id": "EBM6W9PQZcYM",
    "outputId": "3ef29970-03d1-4d84-f38d-63b95f208de3"
   },
   "outputs": [
    {
     "data": {
      "image/png": "[encoded data removed]",
      "text/plain": [
       "<Figure size 1000x600 with 2 Axes>"
      ]
     },
     "metadata": {},
     "output_type": "display_data"
    }
   ],
   "source": [
    "#plottarw ton arithmo leksewn analoga to sentiment\n",
    "fig, ax = plt.subplots(1,2, figsize=(10,6))\n",
    "ax[0].hist(df[df['sentiment'] == 'positive']['word_count'], label='Positive', color='purple', rwidth=0.8);\n",
    "ax[1].hist(df[df['sentiment'] == 'negative']['word_count'], label='Negative', color='pink', rwidth=0.8);\n",
    "\n",
    "ax[0].legend(loc='upper right');\n",
    "ax[1].legend(loc='upper right');\n",
    "\n",
    "fig.suptitle(\"Number of words in review\")\n",
    "plt.show()"
   ]
  },
  {
   "cell_type": "code",
   "execution_count": 15,
   "metadata": {
    "colab": {
     "base_uri": "https://localhost:8080/"
    },
    "id": "jVKsPlqRZcYM",
    "outputId": "84d97ec3-21ee-41f6-9ef6-93ac7d2ed778"
   },
   "outputs": [
    {
     "name": "stderr",
     "output_type": "stream",
     "text": [
      "C:\\Users\\Ryzen\\AppData\\Local\\Temp\\ipykernel_20704\\2333724438.py:2: FutureWarning: A value is trying to be set on a copy of a DataFrame or Series through chained assignment using an inplace method.\n",
      "The behavior will change in pandas 3.0. This inplace method will never work because the intermediate object on which we are setting values always behaves as a copy.\n",
      "\n",
      "For example, when doing 'df[col].method(value, inplace=True)', try using 'df.method({col: value}, inplace=True)' or df[col] = df[col].method(value) instead, to perform the operation inplace on the original object.\n",
      "\n",
      "\n",
      "  df.sentiment.replace(\"positive\", 1, inplace=True)\n",
      "C:\\Users\\Ryzen\\AppData\\Local\\Temp\\ipykernel_20704\\2333724438.py:3: FutureWarning: A value is trying to be set on a copy of a DataFrame or Series through chained assignment using an inplace method.\n",
      "The behavior will change in pandas 3.0. This inplace method will never work because the intermediate object on which we are setting values always behaves as a copy.\n",
      "\n",
      "For example, when doing 'df[col].method(value, inplace=True)', try using 'df.method({col: value}, inplace=True)' or df[col] = df[col].method(value) instead, to perform the operation inplace on the original object.\n",
      "\n",
      "\n",
      "  df.sentiment.replace(\"negative\", 0, inplace=True)\n",
      "C:\\Users\\Ryzen\\AppData\\Local\\Temp\\ipykernel_20704\\2333724438.py:3: FutureWarning: Downcasting behavior in `replace` is deprecated and will be removed in a future version. To retain the old behavior, explicitly call `result.infer_objects(copy=False)`. To opt-in to the future behavior, set `pd.set_option('future.no_silent_downcasting', True)`\n",
      "  df.sentiment.replace(\"negative\", 0, inplace=True)\n"
     ]
    }
   ],
   "source": [
    "#allazw to sentiment apo text se boolean kathws etsi ekpaideuontai kalytera ta montela\n",
    "df.sentiment.replace(\"positive\", 1, inplace=True)\n",
    "df.sentiment.replace(\"negative\", 0, inplace=True)"
   ]
  },
  {
   "cell_type": "code",
   "execution_count": 16,
   "metadata": {
    "colab": {
     "base_uri": "https://localhost:8080/",
     "height": 206
    },
    "id": "Bja53n2EZcYM",
    "outputId": "1644d0ba-c800-4c73-da11-1afd3792c240"
   },
   "outputs": [
    {
     "data": {
      "text/html": [
       "<div>\n",
       "<style scoped>\n",
       "    .dataframe tbody tr th:only-of-type {\n",
       "        vertical-align: middle;\n",
       "    }\n",
       "\n",
       "    .dataframe tbody tr th {\n",
       "        vertical-align: top;\n",
       "    }\n",
       "\n",
       "    .dataframe thead th {\n",
       "        text-align: right;\n",
       "    }\n",
       "</style>\n",
       "<table border=\"1\" class=\"dataframe\">\n",
       "  <thead>\n",
       "    <tr style=\"text-align: right;\">\n",
       "      <th></th>\n",
       "      <th>review</th>\n",
       "      <th>sentiment</th>\n",
       "      <th>word_count</th>\n",
       "    </tr>\n",
       "  </thead>\n",
       "  <tbody>\n",
       "    <tr>\n",
       "      <th>0</th>\n",
       "      <td>One of the other reviewers has mentioned that ...</td>\n",
       "      <td>1</td>\n",
       "      <td>307</td>\n",
       "    </tr>\n",
       "    <tr>\n",
       "      <th>1</th>\n",
       "      <td>A wonderful little production. &lt;br /&gt;&lt;br /&gt;The...</td>\n",
       "      <td>1</td>\n",
       "      <td>162</td>\n",
       "    </tr>\n",
       "    <tr>\n",
       "      <th>2</th>\n",
       "      <td>I thought this was a wonderful way to spend ti...</td>\n",
       "      <td>1</td>\n",
       "      <td>166</td>\n",
       "    </tr>\n",
       "    <tr>\n",
       "      <th>3</th>\n",
       "      <td>Basically there's a family where a little boy ...</td>\n",
       "      <td>0</td>\n",
       "      <td>138</td>\n",
       "    </tr>\n",
       "    <tr>\n",
       "      <th>4</th>\n",
       "      <td>Petter Mattei's \"Love in the Time of Money\" is...</td>\n",
       "      <td>1</td>\n",
       "      <td>230</td>\n",
       "    </tr>\n",
       "  </tbody>\n",
       "</table>\n",
       "</div>"
      ],
      "text/plain": [
       "                                              review  sentiment  word_count\n",
       "0  One of the other reviewers has mentioned that ...          1         307\n",
       "1  A wonderful little production. <br /><br />The...          1         162\n",
       "2  I thought this was a wonderful way to spend ti...          1         166\n",
       "3  Basically there's a family where a little boy ...          0         138\n",
       "4  Petter Mattei's \"Love in the Time of Money\" is...          1         230"
      ]
     },
     "execution_count": 16,
     "metadata": {},
     "output_type": "execute_result"
    }
   ],
   "source": [
    "df.head()"
   ]
  },
  {
   "cell_type": "code",
   "execution_count": 18,
   "metadata": {
    "colab": {
     "base_uri": "https://localhost:8080/"
    },
    "id": "ulPM5GkTZcYM",
    "outputId": "ee469978-8c90-4f11-f43f-b6461458a414"
   },
   "outputs": [
    {
     "name": "stderr",
     "output_type": "stream",
     "text": [
      "[nltk_data] Downloading package stopwords to\n",
      "[nltk_data]     C:\\Users\\Ryzen\\AppData\\Roaming\\nltk_data...\n",
      "[nltk_data]   Package stopwords is already up-to-date!\n",
      "[nltk_data] Downloading package punkt to\n",
      "[nltk_data]     C:\\Users\\Ryzen\\AppData\\Roaming\\nltk_data...\n",
      "[nltk_data]   Package punkt is already up-to-date!\n",
      "[nltk_data] Downloading package punkt_tab to\n",
      "[nltk_data]     C:\\Users\\Ryzen\\AppData\\Roaming\\nltk_data...\n",
      "[nltk_data]   Package punkt_tab is already up-to-date!\n"
     ]
    },
    {
     "data": {
      "text/plain": [
       "True"
      ]
     },
     "execution_count": 18,
     "metadata": {},
     "output_type": "execute_result"
    }
   ],
   "source": [
    "#xrisimopoiw to nltk gia na kataibasw stopwords kai punkt ta opoia tha xrhsimopoihsw sto preprocessing tou text\n",
    "import nltk\n",
    "nltk.download('stopwords')\n",
    "nltk.download('punkt')\n",
    "nltk.download('punkt_tab')"
   ]
  },
  {
   "cell_type": "code",
   "execution_count": 19,
   "metadata": {
    "colab": {
     "base_uri": "https://localhost:8080/"
    },
    "id": "sCUrvAcmgp5g",
    "outputId": "31d6099d-b735-4c4e-afa7-41c123534eff"
   },
   "outputs": [],
   "source": [
    "\n",
    "stop_words = set(stopwords.words('english'))\n",
    "\n",
    "def process(review):\n",
    "    # koitaw prwta ama sto text uparxoyn html tags\n",
    "    if re.search('<.*?>', review):  \n",
    "        review = BeautifulSoup(review, 'html.parser').get_text()  # ean uparxoun kanw parse me beatifulSoup\n",
    "    review = review.lower() #kanw to text se lower\n",
    "    review = re.sub(\"[^a-zA-Z]\",' ',review)#afairw ola ta mh grammata\n",
    "    review = re.sub(r\"https\\S+|www\\S+|http\\S+\", '', review, flags = re.MULTILINE)#afairei ta urls\n",
    "    review = re.sub(r'\\@w+|\\#', '', review)#afairei ola ta usernames h tags\n",
    "    review = re.sub(r'[^\\w\\s]', '', review)#afairei to punctuation\n",
    "    review_tokens = word_tokenize(review)#kanw tokenization\n",
    "    filtered_review = [w for w in review_tokens if not w in stop_words]# psaxnei gia common stopwords kai ta afairei kathws den xreiazontai\n",
    "    return \" \".join(filtered_review) # telos ta filtrarizmena tokens gurnane se ena string"
   ]
  },
  {
   "cell_type": "code",
   "execution_count": 20,
   "metadata": {
    "id": "30Svrs3HZcYN"
   },
   "outputs": [],
   "source": [
    "#kanw process se ola ta reviews\n",
    "df.review = df['review'].apply(process)"
   ]
  },
  {
   "cell_type": "code",
   "execution_count": 23,
   "metadata": {
    "colab": {
     "base_uri": "https://localhost:8080/"
    },
    "id": "Vn-Vali4ZcYN",
    "outputId": "2d24cc66-e090-408a-eb69-a6be5742a90b"
   },
   "outputs": [
    {
     "name": "stdout",
     "output_type": "stream",
     "text": [
      "Number of duplicate entries:  0\n"
     ]
    }
   ],
   "source": [
    "#dropparw ola ta duplicates\n",
    "duplicated_count = df.duplicated().sum()\n",
    "print(\"Number of duplicate entries: \", duplicated_count)\n",
    "df = df.drop_duplicates('review')"
   ]
  },
  {
   "cell_type": "code",
   "execution_count": 24,
   "metadata": {
    "id": "WNWOKfkpZcYN"
   },
   "outputs": [],
   "source": [
    "#xrhsimopoiw stemming gia na ferw tis lekseis sthn pio aplh tous morfh kathws etsi tha kanoyn pio eykola train ta montela\n",
    "stemmer = PorterStemmer()\n",
    "def stemming(data):\n",
    "    text = [stemmer.stem(word) for word in data]\n",
    "    return ''.join(text)"
   ]
  },
  {
   "cell_type": "code",
   "execution_count": 25,
   "metadata": {
    "id": "KGVmjOusZcYN"
   },
   "outputs": [],
   "source": [
    "#kanw apply to stemming\n",
    "df.review = df['review'].apply(lambda x: stemming(x))"
   ]
  },
  {
   "cell_type": "code",
   "execution_count": 26,
   "metadata": {
    "colab": {
     "base_uri": "https://localhost:8080/"
    },
    "id": "8li5xISsZcYO",
    "outputId": "1da2827c-54f3-4265-b334-5eafd206279f"
   },
   "outputs": [
    {
     "name": "stdout",
     "output_type": "stream",
     "text": [
      "0        one reviewers mentioned watching oz episode ho...\n",
      "1        wonderful little production filming technique ...\n",
      "2        thought wonderful way spend time hot summer we...\n",
      "3        basically family little boy jake thinks zombie...\n",
      "4        petter mattei love time money visually stunnin...\n",
      "                               ...                        \n",
      "49995    thought movie right good job creative original...\n",
      "49996    bad plot bad dialogue bad acting idiotic direc...\n",
      "49997    catholic taught parochial elementary schools n...\n",
      "49998    going disagree previous comment side maltin on...\n",
      "49999    one expects star trek movies high art fans exp...\n",
      "Name: review, Length: 49575, dtype: object\n"
     ]
    }
   ],
   "source": [
    "print(df.review)"
   ]
  },
  {
   "cell_type": "code",
   "execution_count": 27,
   "metadata": {
    "colab": {
     "base_uri": "https://localhost:8080/",
     "height": 206
    },
    "id": "kiv_0f-TZcYO",
    "outputId": "2fb69b57-e3d4-4ea3-8f97-6e0ac3a4f9ec"
   },
   "outputs": [
    {
     "data": {
      "text/html": [
       "<div>\n",
       "<style scoped>\n",
       "    .dataframe tbody tr th:only-of-type {\n",
       "        vertical-align: middle;\n",
       "    }\n",
       "\n",
       "    .dataframe tbody tr th {\n",
       "        vertical-align: top;\n",
       "    }\n",
       "\n",
       "    .dataframe thead th {\n",
       "        text-align: right;\n",
       "    }\n",
       "</style>\n",
       "<table border=\"1\" class=\"dataframe\">\n",
       "  <thead>\n",
       "    <tr style=\"text-align: right;\">\n",
       "      <th></th>\n",
       "      <th>review</th>\n",
       "      <th>sentiment</th>\n",
       "      <th>word_count</th>\n",
       "      <th>new_word_count</th>\n",
       "    </tr>\n",
       "  </thead>\n",
       "  <tbody>\n",
       "    <tr>\n",
       "      <th>0</th>\n",
       "      <td>one reviewers mentioned watching oz episode ho...</td>\n",
       "      <td>1</td>\n",
       "      <td>307</td>\n",
       "      <td>162</td>\n",
       "    </tr>\n",
       "    <tr>\n",
       "      <th>1</th>\n",
       "      <td>wonderful little production filming technique ...</td>\n",
       "      <td>1</td>\n",
       "      <td>162</td>\n",
       "      <td>86</td>\n",
       "    </tr>\n",
       "    <tr>\n",
       "      <th>2</th>\n",
       "      <td>thought wonderful way spend time hot summer we...</td>\n",
       "      <td>1</td>\n",
       "      <td>166</td>\n",
       "      <td>84</td>\n",
       "    </tr>\n",
       "    <tr>\n",
       "      <th>3</th>\n",
       "      <td>basically family little boy jake thinks zombie...</td>\n",
       "      <td>0</td>\n",
       "      <td>138</td>\n",
       "      <td>64</td>\n",
       "    </tr>\n",
       "    <tr>\n",
       "      <th>4</th>\n",
       "      <td>petter mattei love time money visually stunnin...</td>\n",
       "      <td>1</td>\n",
       "      <td>230</td>\n",
       "      <td>125</td>\n",
       "    </tr>\n",
       "  </tbody>\n",
       "</table>\n",
       "</div>"
      ],
      "text/plain": [
       "                                              review  sentiment  word_count  \\\n",
       "0  one reviewers mentioned watching oz episode ho...          1         307   \n",
       "1  wonderful little production filming technique ...          1         162   \n",
       "2  thought wonderful way spend time hot summer we...          1         166   \n",
       "3  basically family little boy jake thinks zombie...          0         138   \n",
       "4  petter mattei love time money visually stunnin...          1         230   \n",
       "\n",
       "   new_word_count  \n",
       "0             162  \n",
       "1              86  \n",
       "2              84  \n",
       "3              64  \n",
       "4             125  "
      ]
     },
     "execution_count": 27,
     "metadata": {},
     "output_type": "execute_result"
    }
   ],
   "source": [
    "#parathrw oti meta to preprocess oi lekseis meiwthhkan shmantika kanwntas etsi to training pio grhgoro sta montela xwris na epireazei to accuracy tous\n",
    "df['new_word_count'] = df['review'].apply(no_of_words)\n",
    "df.head()"
   ]
  },
  {
   "cell_type": "code",
   "execution_count": 28,
   "metadata": {
    "colab": {
     "base_uri": "https://localhost:8080/",
     "height": 206
    },
    "id": "wtgnNkKfZcYO",
    "outputId": "ff7d7e74-5643-4bcc-8134-4b924a7d1945"
   },
   "outputs": [
    {
     "data": {
      "text/html": [
       "<div>\n",
       "<style scoped>\n",
       "    .dataframe tbody tr th:only-of-type {\n",
       "        vertical-align: middle;\n",
       "    }\n",
       "\n",
       "    .dataframe tbody tr th {\n",
       "        vertical-align: top;\n",
       "    }\n",
       "\n",
       "    .dataframe thead th {\n",
       "        text-align: right;\n",
       "    }\n",
       "</style>\n",
       "<table border=\"1\" class=\"dataframe\">\n",
       "  <thead>\n",
       "    <tr style=\"text-align: right;\">\n",
       "      <th></th>\n",
       "      <th>review</th>\n",
       "      <th>sentiment</th>\n",
       "      <th>word_count</th>\n",
       "      <th>new_word_count</th>\n",
       "    </tr>\n",
       "  </thead>\n",
       "  <tbody>\n",
       "    <tr>\n",
       "      <th>0</th>\n",
       "      <td>one reviewers mentioned watching oz episode ho...</td>\n",
       "      <td>1</td>\n",
       "      <td>307</td>\n",
       "      <td>162</td>\n",
       "    </tr>\n",
       "    <tr>\n",
       "      <th>1</th>\n",
       "      <td>wonderful little production filming technique ...</td>\n",
       "      <td>1</td>\n",
       "      <td>162</td>\n",
       "      <td>86</td>\n",
       "    </tr>\n",
       "    <tr>\n",
       "      <th>2</th>\n",
       "      <td>thought wonderful way spend time hot summer we...</td>\n",
       "      <td>1</td>\n",
       "      <td>166</td>\n",
       "      <td>84</td>\n",
       "    </tr>\n",
       "    <tr>\n",
       "      <th>4</th>\n",
       "      <td>petter mattei love time money visually stunnin...</td>\n",
       "      <td>1</td>\n",
       "      <td>230</td>\n",
       "      <td>125</td>\n",
       "    </tr>\n",
       "    <tr>\n",
       "      <th>5</th>\n",
       "      <td>probably time favorite movie story selflessnes...</td>\n",
       "      <td>1</td>\n",
       "      <td>119</td>\n",
       "      <td>54</td>\n",
       "    </tr>\n",
       "  </tbody>\n",
       "</table>\n",
       "</div>"
      ],
      "text/plain": [
       "                                              review  sentiment  word_count  \\\n",
       "0  one reviewers mentioned watching oz episode ho...          1         307   \n",
       "1  wonderful little production filming technique ...          1         162   \n",
       "2  thought wonderful way spend time hot summer we...          1         166   \n",
       "4  petter mattei love time money visually stunnin...          1         230   \n",
       "5  probably time favorite movie story selflessnes...          1         119   \n",
       "\n",
       "   new_word_count  \n",
       "0             162  \n",
       "1              86  \n",
       "2              84  \n",
       "4             125  \n",
       "5              54  "
      ]
     },
     "execution_count": 28,
     "metadata": {},
     "output_type": "execute_result"
    }
   ],
   "source": [
    "pos_reviews =  df[df.sentiment == 1]\n",
    "pos_reviews.head()"
   ]
  },
  {
   "cell_type": "code",
   "execution_count": 29,
   "metadata": {
    "colab": {
     "base_uri": "https://localhost:8080/",
     "height": 206
    },
    "id": "t8hbDCIfZcYO",
    "outputId": "9cc8bc8f-a08a-4370-c362-928748175b6d"
   },
   "outputs": [
    {
     "data": {
      "text/html": [
       "<div>\n",
       "<style scoped>\n",
       "    .dataframe tbody tr th:only-of-type {\n",
       "        vertical-align: middle;\n",
       "    }\n",
       "\n",
       "    .dataframe tbody tr th {\n",
       "        vertical-align: top;\n",
       "    }\n",
       "\n",
       "    .dataframe thead th {\n",
       "        text-align: right;\n",
       "    }\n",
       "</style>\n",
       "<table border=\"1\" class=\"dataframe\">\n",
       "  <thead>\n",
       "    <tr style=\"text-align: right;\">\n",
       "      <th></th>\n",
       "      <th>review</th>\n",
       "      <th>sentiment</th>\n",
       "      <th>word_count</th>\n",
       "      <th>new_word_count</th>\n",
       "    </tr>\n",
       "  </thead>\n",
       "  <tbody>\n",
       "    <tr>\n",
       "      <th>3</th>\n",
       "      <td>basically family little boy jake thinks zombie...</td>\n",
       "      <td>0</td>\n",
       "      <td>138</td>\n",
       "      <td>64</td>\n",
       "    </tr>\n",
       "    <tr>\n",
       "      <th>7</th>\n",
       "      <td>show amazing fresh innovative idea first aired...</td>\n",
       "      <td>0</td>\n",
       "      <td>174</td>\n",
       "      <td>78</td>\n",
       "    </tr>\n",
       "    <tr>\n",
       "      <th>8</th>\n",
       "      <td>encouraged positive comments film looking forw...</td>\n",
       "      <td>0</td>\n",
       "      <td>130</td>\n",
       "      <td>62</td>\n",
       "    </tr>\n",
       "    <tr>\n",
       "      <th>10</th>\n",
       "      <td>phil alien one quirky films humour based aroun...</td>\n",
       "      <td>0</td>\n",
       "      <td>96</td>\n",
       "      <td>50</td>\n",
       "    </tr>\n",
       "    <tr>\n",
       "      <th>11</th>\n",
       "      <td>saw movie came recall scariest scene big bird ...</td>\n",
       "      <td>0</td>\n",
       "      <td>180</td>\n",
       "      <td>82</td>\n",
       "    </tr>\n",
       "  </tbody>\n",
       "</table>\n",
       "</div>"
      ],
      "text/plain": [
       "                                               review  sentiment  word_count  \\\n",
       "3   basically family little boy jake thinks zombie...          0         138   \n",
       "7   show amazing fresh innovative idea first aired...          0         174   \n",
       "8   encouraged positive comments film looking forw...          0         130   \n",
       "10  phil alien one quirky films humour based aroun...          0          96   \n",
       "11  saw movie came recall scariest scene big bird ...          0         180   \n",
       "\n",
       "    new_word_count  \n",
       "3               64  \n",
       "7               78  \n",
       "8               62  \n",
       "10              50  \n",
       "11              82  "
      ]
     },
     "execution_count": 29,
     "metadata": {},
     "output_type": "execute_result"
    }
   ],
   "source": [
    "neg_reviews =  df[df.sentiment == 0]\n",
    "neg_reviews.head()"
   ]
  },
  {
   "cell_type": "code",
   "execution_count": 30,
   "metadata": {
    "id": "Mqa2YzBmZcYO"
   },
   "outputs": [],
   "source": [
    "#splittarw to data se 2 df's opoy to X apoteleite apo ta reviews kai to Y apo ta sentiments\n",
    "X = df['review']\n",
    "Y = df['sentiment']"
   ]
  },
  {
   "cell_type": "code",
   "execution_count": 31,
   "metadata": {
    "colab": {
     "base_uri": "https://localhost:8080/",
     "height": 458
    },
    "id": "HNVLVPSZZcYP",
    "outputId": "f6f8025b-374b-494f-e51c-4245aa8801c4"
   },
   "outputs": [
    {
     "data": {
      "text/plain": [
       "0        one reviewers mentioned watching oz episode ho...\n",
       "1        wonderful little production filming technique ...\n",
       "2        thought wonderful way spend time hot summer we...\n",
       "3        basically family little boy jake thinks zombie...\n",
       "4        petter mattei love time money visually stunnin...\n",
       "                               ...                        \n",
       "49995    thought movie right good job creative original...\n",
       "49996    bad plot bad dialogue bad acting idiotic direc...\n",
       "49997    catholic taught parochial elementary schools n...\n",
       "49998    going disagree previous comment side maltin on...\n",
       "49999    one expects star trek movies high art fans exp...\n",
       "Name: review, Length: 49575, dtype: object"
      ]
     },
     "execution_count": 31,
     "metadata": {},
     "output_type": "execute_result"
    }
   ],
   "source": [
    "X"
   ]
  },
  {
   "cell_type": "code",
   "execution_count": 32,
   "metadata": {
    "colab": {
     "base_uri": "https://localhost:8080/",
     "height": 458
    },
    "id": "YB3wJWZxZcYP",
    "outputId": "8884faf5-3f08-4046-837e-f3a6f831a882"
   },
   "outputs": [
    {
     "data": {
      "text/plain": [
       "0        1\n",
       "1        1\n",
       "2        1\n",
       "3        0\n",
       "4        1\n",
       "        ..\n",
       "49995    1\n",
       "49996    0\n",
       "49997    0\n",
       "49998    0\n",
       "49999    0\n",
       "Name: sentiment, Length: 49575, dtype: int64"
      ]
     },
     "execution_count": 32,
     "metadata": {},
     "output_type": "execute_result"
    }
   ],
   "source": [
    "Y"
   ]
  },
  {
   "cell_type": "code",
   "execution_count": 33,
   "metadata": {
    "id": "tBVLmgDHZcYP"
   },
   "outputs": [],
   "source": [
    "#xrhsimopoiw to TfidfVectorizer gia na kanw vectorize ta reviews \n",
    "vect = TfidfVectorizer()\n",
    "X = vect.fit_transform(df['review'])"
   ]
  },
  {
   "cell_type": "code",
   "execution_count": 69,
   "metadata": {
    "id": "JZSUPWweZcYP"
   },
   "outputs": [],
   "source": [
    "#splittarw to data se train kai test\n",
    "x_train, x_test, y_train, y_test = train_test_split(X, Y, test_size=0.3, random_state=42)"
   ]
  },
  {
   "cell_type": "code",
   "execution_count": 70,
   "metadata": {
    "colab": {
     "base_uri": "https://localhost:8080/"
    },
    "id": "wT5N3lGSZcYP",
    "outputId": "3521fc63-83b7-4421-955e-e4907d52a9dd"
   },
   "outputs": [
    {
     "name": "stdout",
     "output_type": "stream",
     "text": [
      "Size of x_train:  (34702, 101201)\n",
      "Size of y_train:  (34702,)\n",
      "Size of x_test:  (14873, 101201)\n",
      "Size of y_test:  (14873,)\n"
     ]
    }
   ],
   "source": [
    "print(\"Size of x_train: \", (x_train.shape))\n",
    "print(\"Size of y_train: \", (y_train.shape))\n",
    "print(\"Size of x_test: \", (x_test.shape))\n",
    "print(\"Size of y_test: \", (y_test.shape))"
   ]
  },
  {
   "cell_type": "code",
   "execution_count": 74,
   "metadata": {
    "colab": {
     "base_uri": "https://localhost:8080/"
    },
    "id": "kbhAOe7rZcYQ",
    "outputId": "48b2efea-ea8c-4d85-a1e0-819e2b7763df"
   },
   "outputs": [
    {
     "name": "stdout",
     "output_type": "stream",
     "text": [
      "Test accuracy: 89.42%\n"
     ]
    }
   ],
   "source": [
    "#xrhsimopoiw to sklearn gia na fittarw to linearSVC montelo\n",
    "from sklearn.svm import LinearSVC\n",
    "from sklearn.metrics import accuracy_score\n",
    "from sklearn.metrics import confusion_matrix\n",
    "from sklearn.metrics import classification_report\n",
    "svc = LinearSVC()\n",
    "svc.fit(x_train, y_train)\n",
    "svc_pred = svc.predict(x_test)\n",
    "svc_acc = accuracy_score(svc_pred, y_test)\n",
    "print(\"Test accuracy: {:.2f}%\".format(svc_acc*100))"
   ]
  },
  {
   "cell_type": "code",
   "execution_count": 75,
   "metadata": {
    "colab": {
     "base_uri": "https://localhost:8080/"
    },
    "id": "ud5-HNmjZcYQ",
    "outputId": "ddf2dfbf-c1f8-479d-e148-3c76339fa439"
   },
   "outputs": [
    {
     "name": "stdout",
     "output_type": "stream",
     "text": [
      "[[6570  849]\n",
      " [ 724 6730]]\n",
      "\n",
      "\n",
      "              precision    recall  f1-score   support\n",
      "\n",
      "           0       0.90      0.89      0.89      7419\n",
      "           1       0.89      0.90      0.90      7454\n",
      "\n",
      "    accuracy                           0.89     14873\n",
      "   macro avg       0.89      0.89      0.89     14873\n",
      "weighted avg       0.89      0.89      0.89     14873\n",
      "\n"
     ]
    }
   ],
   "source": [
    "#printarw tis pio common metrikes\n",
    "print(confusion_matrix(y_test, svc_pred))\n",
    "print(\"\\n\")\n",
    "print(classification_report(y_test, svc_pred))"
   ]
  },
  {
   "cell_type": "code",
   "execution_count": 76,
   "metadata": {},
   "outputs": [],
   "source": [
    "#sunarthsh gia predict se custom review\n",
    "def predict_sentiment(custom_review):\n",
    "    # thn kanw preprocess\n",
    "    processed_review = process(custom_review)\n",
    "    \n",
    "    # thn kanw vectorize me to fitted vectorizer \n",
    "    custom_review_vectorized = vect.transform([processed_review]) \n",
    "    \n",
    "    # kanw prediction\n",
    "    prediction = svc.predict(custom_review_vectorized)\n",
    "    \n",
    "    return prediction[0]"
   ]
  },
  {
   "cell_type": "code",
   "execution_count": 77,
   "metadata": {},
   "outputs": [
    {
     "name": "stdout",
     "output_type": "stream",
     "text": [
      "Predicted sentiment: 1\n"
     ]
    }
   ],
   "source": [
    "# testarw toi function\n",
    "custom_review = \"the movie was so good i liked it\"\n",
    "predicted_sentiment = predict_sentiment(custom_review)\n",
    "print(\"Predicted sentiment:\", predicted_sentiment)"
   ]
  },
  {
   "cell_type": "code",
   "execution_count": 82,
   "metadata": {
    "colab": {
     "base_uri": "https://localhost:8080/"
    },
    "id": "ppkEBLUDPprK",
    "outputId": "e151e1b8-325d-4d84-8f08-430b23226320"
   },
   "outputs": [
    {
     "name": "stderr",
     "output_type": "stream",
     "text": [
      "C:\\Users\\Ryzen\\AppData\\Local\\Packages\\PythonSoftwareFoundation.Python.3.12_qbz5n2kfra8p0\\LocalCache\\local-packages\\Python312\\site-packages\\keras\\src\\layers\\core\\dense.py:87: UserWarning: Do not pass an `input_shape`/`input_dim` argument to a layer. When using Sequential models, prefer using an `Input(shape)` object as the first layer in the model instead.\n",
      "  super().__init__(activity_regularizer=activity_regularizer, **kwargs)\n"
     ]
    },
    {
     "name": "stdout",
     "output_type": "stream",
     "text": [
      "Epoch 1/10\n",
      "\u001b[1m1952/1952\u001b[0m \u001b[32m━━━━━━━━━━━━━━━━━━━━\u001b[0m\u001b[37m\u001b[0m \u001b[1m166s\u001b[0m 85ms/step - accuracy: 0.8213 - loss: 0.3991 - val_accuracy: 0.8995 - val_loss: 0.2484\n",
      "Epoch 2/10\n",
      "\u001b[1m1952/1952\u001b[0m \u001b[32m━━━━━━━━━━━━━━━━━━━━\u001b[0m\u001b[37m\u001b[0m \u001b[1m171s\u001b[0m 88ms/step - accuracy: 0.9549 - loss: 0.1258 - val_accuracy: 0.8983 - val_loss: 0.2835\n",
      "Epoch 3/10\n",
      "\u001b[1m1952/1952\u001b[0m \u001b[32m━━━━━━━━━━━━━━━━━━━━\u001b[0m\u001b[37m\u001b[0m \u001b[1m169s\u001b[0m 87ms/step - accuracy: 0.9814 - loss: 0.0576 - val_accuracy: 0.8954 - val_loss: 0.3616\n",
      "Epoch 4/10\n",
      "\u001b[1m1952/1952\u001b[0m \u001b[32m━━━━━━━━━━━━━━━━━━━━\u001b[0m\u001b[37m\u001b[0m \u001b[1m168s\u001b[0m 86ms/step - accuracy: 0.9922 - loss: 0.0251 - val_accuracy: 0.8871 - val_loss: 0.5056\n",
      "\u001b[1m465/465\u001b[0m \u001b[32m━━━━━━━━━━━━━━━━━━━━\u001b[0m\u001b[37m\u001b[0m \u001b[1m2s\u001b[0m 5ms/step - accuracy: 0.8961 - loss: 0.2512\n",
      "Accuracy: 0.8965238928794861\n"
     ]
    }
   ],
   "source": [
    "from tensorflow import keras #kanw import keras giati thelw to sequential montelo\n",
    "from tensorflow.keras.models import Sequential\n",
    "from tensorflow.keras.layers import Dense, Dropout \n",
    "from tensorflow.keras.callbacks import EarlyStopping # xrhsimopoiw early stopping me bash to val_loss \n",
    "early_stopping = EarlyStopping(monitor='val_loss', patience=3, restore_best_weights=True)\n",
    "model = Sequential([\n",
    "    Dense(128, activation='relu', input_shape=(x_train.shape[1],)),\n",
    "    Dropout(0.5),\n",
    "    Dense(64, activation='relu'),\n",
    "    Dropout(0.5),\n",
    "    Dense(1, activation='sigmoid') \n",
    "])\n",
    "\n",
    "# Σύνθεση του μοντέλου\n",
    "model.compile(optimizer='adam', loss='binary_crossentropy', metrics=['accuracy'])\n",
    "\n",
    "# Εκπαίδευση του μοντέλου\n",
    "model.fit(x_train, y_train, epochs=10, batch_size=16, validation_split=0.1, callbacks=[early_stopping])\n",
    "\n",
    "# Αξιολόγηση\n",
    "loss, accuracy = model.evaluate(x_test, y_test)\n",
    "print(\"Accuracy:\", accuracy)"
   ]
  },
  {
   "cell_type": "code",
   "execution_count": 83,
   "metadata": {},
   "outputs": [],
   "source": [
    "\n",
    "#sunarthsh gia predict se custom review se sequential model\n",
    "def predict_sentiment(custom_review):\n",
    "    # Preprocess the custom review\n",
    "    processed_review = process(custom_review)\n",
    "    \n",
    "    # Vectorize the processed review using the same vectorizer\n",
    "    custom_review_vectorized = vect.transform([processed_review])  # Use the same vectorizer\n",
    "    \n",
    "    # Make a prediction\n",
    "    prediction = model.predict(custom_review_vectorized)\n",
    "    \n",
    "    return prediction[0]"
   ]
  },
  {
   "cell_type": "code",
   "execution_count": 100,
   "metadata": {},
   "outputs": [
    {
     "name": "stdout",
     "output_type": "stream",
     "text": [
      "\u001b[1m1/1\u001b[0m \u001b[32m━━━━━━━━━━━━━━━━━━━━\u001b[0m\u001b[37m\u001b[0m \u001b[1m0s\u001b[0m 40ms/step\n",
      "Predicted sentiment was positive with 99.86% certainty\n"
     ]
    }
   ],
   "source": [
    "# test gia custom review\n",
    "import numpy as np\n",
    "custom_review = \"the movie was great\"\n",
    "predicted_sentiment = predict_sentiment(custom_review) \n",
    "certainty = predicted_sentiment[0] if isinstance(predicted_sentiment, np.ndarray) else predicted_sentiment\n",
    "certainty = certainty if certainty > 0.5 else 1 - certainty\n",
    "\n",
    "if predicted_sentiment > 0.5:\n",
    "    print(f\"Predicted sentiment was positive with {certainty * 100:.2f}% certainty\")\n",
    "else:\n",
    "    print(f\"Predicted sentiment was negative with {certainty * 100:.2f}% certainty\")\n"
   ]
  },
  {
   "cell_type": "code",
   "execution_count": 98,
   "metadata": {},
   "outputs": [
    {
     "name": "stdout",
     "output_type": "stream",
     "text": [
      "Comparison of Linear SVC and Sequential Model:\n",
      "\n",
      "Linear SVC Results:\n",
      "Accuracy: 0.89\n",
      "Confusion Matrix:\n",
      "[[6570  849]\n",
      " [ 724 6730]]\n",
      "\n",
      "Classification Report:\n",
      "              precision    recall  f1-score   support\n",
      "\n",
      "           0       0.90      0.89      0.89      7419\n",
      "           1       0.89      0.90      0.90      7454\n",
      "\n",
      "    accuracy                           0.89     14873\n",
      "   macro avg       0.89      0.89      0.89     14873\n",
      "weighted avg       0.89      0.89      0.89     14873\n",
      "\n",
      "\n",
      "Sequential Model Results:\n",
      "Accuracy: 0.90\n",
      "Confusion Matrix:\n",
      "\u001b[1m465/465\u001b[0m \u001b[32m━━━━━━━━━━━━━━━━━━━━\u001b[0m\u001b[37m\u001b[0m \u001b[1m2s\u001b[0m 5ms/step\n",
      "[[6450  969]\n",
      " [ 570 6884]]\n",
      "\n",
      "Classification Report:\n",
      "              precision    recall  f1-score   support\n",
      "\n",
      "           0       0.92      0.87      0.89      7419\n",
      "           1       0.88      0.92      0.90      7454\n",
      "\n",
      "    accuracy                           0.90     14873\n",
      "   macro avg       0.90      0.90      0.90     14873\n",
      "weighted avg       0.90      0.90      0.90     14873\n",
      "\n",
      "\n",
      "Observations:\n",
      "- The Linear SVC model achieved an accuracy of 89.42%.\n",
      "- The Sequential model achieved an accuracy of 89.65%.\n",
      "- Analyze precision, recall, and F1-score for each class to understand model performance.\n",
      "- Consider the confusion matrix to identify types of errors (false positives, false negatives).\n",
      "- Note that the Sequential model might take longer to train due to its complexity.\n"
     ]
    }
   ],
   "source": [
    "# Print comparison of Linear SVC and Sequential Model\n",
    "print(\"Comparison of Linear SVC and Sequential Model:\")\n",
    "\n",
    "# Linear SVC results\n",
    "print(\"\\nLinear SVC Results:\")\n",
    "print(f\"Accuracy: {svc_acc:.2f}\")\n",
    "print(\"Confusion Matrix:\")\n",
    "print(confusion_matrix(y_test, svc_pred))\n",
    "print(\"\\nClassification Report:\")\n",
    "print(classification_report(y_test, svc_pred))\n",
    "\n",
    "# Sequential Model results\n",
    "print(\"\\nSequential Model Results:\")\n",
    "print(f\"Accuracy: {accuracy:.2f}\")\n",
    "print(\"Confusion Matrix:\")\n",
    "sequential_pred = (model.predict(x_test) > 0.5).astype(int)\n",
    "print(confusion_matrix(y_test, sequential_pred))\n",
    "print(\"\\nClassification Report:\")\n",
    "print(classification_report(y_test, sequential_pred))\n",
    "\n",
    "# Observations\n",
    "print(\"\\nObservations:\")\n",
    "print(\"- The Linear SVC model achieved an accuracy of {:.2f}%.\".format(svc_acc * 100))\n",
    "print(\"- The Sequential model achieved an accuracy of {:.2f}%.\".format(accuracy * 100))\n",
    "print(\"- Analyze precision, recall, and F1-score for each class to understand model performance.\")\n",
    "print(\"- Consider the confusion matrix to identify types of errors (false positives, false negatives).\")\n",
    "print(\"- Note that the Sequential model might take longer to train due to its complexity.\")"
   ]
  },
  {
   "cell_type": "code",
   "execution_count": 99,
   "metadata": {},
   "outputs": [
    {
     "name": "stderr",
     "output_type": "stream",
     "text": [
      "WARNING:absl:You are saving your model as an HDF5 file via `model.save()` or `keras.saving.save_model(model)`. This file format is considered legacy. We recommend using instead the native Keras format, e.g. `model.save('my_model.keras')` or `keras.saving.save_model(model, 'my_model.keras')`. \n"
     ]
    }
   ],
   "source": [
    "#xrhsimopoiw joblib gia na kanw save ta montela wste na ta xrhsiompoihsw me flask\n",
    "import joblib\n",
    "joblib.dump(svc, 'svc_model.pkl')\n",
    "joblib.dump(vect, 'vectorizer.pkl')\n",
    "model.save('keras_model.h5')"
   ]
  }
 ],
 "metadata": {
  "accelerator": "GPU",
  "colab": {
   "gpuType": "T4",
   "provenance": []
  },
  "kernelspec": {
   "display_name": "Python 3",
   "name": "python3"
  },
  "language_info": {
   "codemirror_mode": {
    "name": "ipython",
    "version": 3
   },
   "file_extension": ".py",
   "mimetype": "text/x-python",
   "name": "python",
   "nbconvert_exporter": "python",
   "pygments_lexer": "ipython3",
   "version": "3.12.8"
  },
  "orig_nbformat": 4
 },
 "nbformat": 4,
 "nbformat_minor": 0
}
